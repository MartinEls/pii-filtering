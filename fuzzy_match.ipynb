{
 "cells": [
  {
   "cell_type": "markdown",
   "metadata": {},
   "source": [
    "## Fuzzy string matching\n",
    "\n",
    "The helper function fuzzy_match_any_term returns a tuple: (True, matched_term) if a match is found, and (False, None) if no match is found.\n",
    "\n",
    "Storing the Matched Term: Inside fuzzy_match_any_term, best_match and best_score variables now keep track of the best-matched term and its score.\n",
    "\n",
    "Creating the flag and matched_term Columns:\n",
    "\n",
    "The results Series now holds tuples of (boolean, string).\n",
    "`df['flag']` is created by taking the first element (boolean) of each tuple.\n",
    "`df['matched_term']` is created by taking the second element (string or None) of each tuple."
   ]
  },
  {
   "cell_type": "code",
   "execution_count": 8,
   "metadata": {},
   "outputs": [],
   "source": [
    "import pandas as pd\n",
    "from rapidfuzz import fuzz, process"
   ]
  },
  {
   "cell_type": "code",
   "execution_count": 9,
   "metadata": {},
   "outputs": [],
   "source": [
    "\n",
    "def flag_text_chunks_fuzzy(df, text_column, terms_list, threshold=90, scorer=fuzz.WRatio):\n",
    "    \"\"\"\n",
    "    Checks each text chunk in a DataFrame column against a list of terms using fuzzy\n",
    "    matching (RapidFuzz) and flags the column, indicating if a match was found and\n",
    "    the matched term.\n",
    "\n",
    "    Args:\n",
    "        df: The pandas DataFrame.\n",
    "        text_column: The name of the column containing the text chunks.\n",
    "        terms_list: A list of terms to search for.\n",
    "        threshold: The minimum similarity score (0-100) for a match to be considered.\n",
    "        scorer: The RapidFuzz scorer function to use (default: fuzz.WRatio).\n",
    "\n",
    "    Returns:\n",
    "        A new DataFrame with added columns: 'flag' (boolean) and 'matched_term' (str).\n",
    "    \"\"\"\n",
    "\n",
    "    def fuzzy_match_any_term(text, terms, threshold, scorer):\n",
    "        \"\"\"\n",
    "        Helper function to check if any word in a text chunk fuzzy matches any term\n",
    "        above a given threshold and returns the matched term.\n",
    "        \"\"\"\n",
    "        words = text.lower().split()  # Split text into words (lowercase)\n",
    "        best_match = None\n",
    "        best_score = -1\n",
    "\n",
    "        for word in words:\n",
    "            match = process.extractOne(word, terms, scorer=scorer)\n",
    "            if match and match[1] >= threshold and match[1] > best_score:\n",
    "                best_match = match[0]  # Store the matched term\n",
    "                best_score = match[1]\n",
    "\n",
    "        if best_match:\n",
    "            return True, best_match\n",
    "        else:\n",
    "            return False, None\n",
    "\n",
    "    # Apply the fuzzy matching and get both the flag and the matched term\n",
    "    results = df[text_column].apply(\n",
    "        lambda x: fuzzy_match_any_term(x, terms_list, threshold, scorer)\n",
    "    )\n",
    "\n",
    "    # Create new columns based on the results\n",
    "    df['flag'] = results.apply(lambda x: x[0])\n",
    "    df['matched_term'] = results.apply(lambda x: x[1])\n",
    "\n",
    "    return df"
   ]
  },
  {
   "cell_type": "markdown",
   "metadata": {},
   "source": [
    "\n",
    "## Example Usage:\n"
   ]
  },
  {
   "cell_type": "code",
   "execution_count": 10,
   "metadata": {},
   "outputs": [],
   "source": [
    "\n",
    "# Sample DataFrame\n",
    "data = {'text': [\"This is a sample text with the word aple.\",\n",
    "                 \"Another example with bana and orange.\",\n",
    "                 \"This text contains neither.\",\n",
    "                 \"We have an appl here.\",\n",
    "                 \"This mentions ORANGE juice.\",\n",
    "                 \"grappe is close\",\n",
    "                 \"bannana is also similar\"]}\n",
    "df = pd.DataFrame(data)\n"
   ]
  },
  {
   "cell_type": "code",
   "execution_count": 11,
   "metadata": {},
   "outputs": [
    {
     "name": "stdout",
     "output_type": "stream",
     "text": [
      "                                        text\n",
      "0  This is a sample text with the word aple.\n",
      "1      Another example with bana and orange.\n",
      "2                This text contains neither.\n",
      "3                      We have an appl here.\n",
      "4                This mentions ORANGE juice.\n",
      "5                            grappe is close\n",
      "6                    bannana is also similar\n"
     ]
    }
   ],
   "source": [
    "print(df)"
   ]
  },
  {
   "cell_type": "code",
   "execution_count": 12,
   "metadata": {},
   "outputs": [],
   "source": [
    "\n",
    "# List of terms to check for\n",
    "terms = [\"apple\", \"banana\", \"grape\"]\n",
    "\n",
    "# Flag the DataFrame based on fuzzy matches\n",
    "df_flagged = flag_text_chunks_fuzzy(df, 'text', terms, threshold=85)\n"
   ]
  },
  {
   "cell_type": "code",
   "execution_count": 13,
   "metadata": {},
   "outputs": [
    {
     "name": "stdout",
     "output_type": "stream",
     "text": [
      "                                        text   flag matched_term\n",
      "0  This is a sample text with the word aple.   True        apple\n",
      "1      Another example with bana and orange.   True       banana\n",
      "2                This text contains neither.  False         None\n",
      "3                      We have an appl here.   True       banana\n",
      "4                This mentions ORANGE juice.  False         None\n",
      "5                            grappe is close   True        grape\n",
      "6                    bannana is also similar   True       banana\n"
     ]
    }
   ],
   "source": [
    "\n",
    "# Print the flagged DataFrame\n",
    "print(df_flagged)"
   ]
  }
 ],
 "metadata": {
  "kernelspec": {
   "display_name": ".venv",
   "language": "python",
   "name": "python3"
  },
  "language_info": {
   "codemirror_mode": {
    "name": "ipython",
    "version": 3
   },
   "file_extension": ".py",
   "mimetype": "text/x-python",
   "name": "python",
   "nbconvert_exporter": "python",
   "pygments_lexer": "ipython3",
   "version": "3.12.5"
  }
 },
 "nbformat": 4,
 "nbformat_minor": 2
}
